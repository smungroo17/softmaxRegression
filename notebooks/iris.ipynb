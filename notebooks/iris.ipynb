{
 "cells": [
  {
   "cell_type": "code",
   "execution_count": 1,
   "metadata": {
    "collapsed": true
   },
   "outputs": [],
   "source": [
    "import numpy as np\n",
    "from sklearn.datasets import fetch_openml\n",
    "from crossValidation import GridSearch, CrossValidation, string_to_numerical_categories\n",
    "from softmax import SoftmaxRegression, GradientDescent\n",
    "from sklearn.neighbors import KNeighborsClassifier\n",
    "from sklearn.preprocessing import StandardScaler"
   ]
  },
  {
   "cell_type": "markdown",
   "source": [
    "# Iris Dataset\n",
    "We find the best hyper-parameters by trying various combinations of batch size,\n",
    "learning rate, and momentum, as seen below. We limit the number of options to speed up\n",
    "the search."
   ],
   "metadata": {
    "collapsed": false
   }
  },
  {
   "cell_type": "code",
   "execution_count": 2,
   "outputs": [],
   "source": [
    "# set to True for hypothesis test (discussed in the report)\n",
    "normalize = False"
   ],
   "metadata": {
    "collapsed": false,
    "pycharm": {
     "name": "#%%\n"
    }
   }
  },
  {
   "cell_type": "code",
   "execution_count": 3,
   "outputs": [
    {
     "name": "stderr",
     "output_type": "stream",
     "text": [
      "c:\\users\\julian\\.virtualenvs\\softmax_regression\\lib\\site-packages\\sklearn\\datasets\\_openml.py:373: UserWarning: Multiple active versions of the dataset matching the name iris exist. Versions may be fundamentally different, returning version 1.\n",
      "  warn(\"Multiple active versions of the dataset matching the name\"\n"
     ]
    }
   ],
   "source": [
    "iris = fetch_openml(name=\"iris\")\n",
    "iris[\"target\"] = string_to_numerical_categories(iris[\"target\"])\n",
    "\n",
    "if normalize:\n",
    "    scaler = StandardScaler()\n",
    "    scaler.fit(iris['data'])\n",
    "    iris['data'] = scaler.transform(iris['data'])\n",
    "\n",
    "batch_sizes = [1, 5, 10, 20, 30]\n",
    "learning_rates = [.0001, .001, .01, .1]\n",
    "momentums = [.25, .5, .75, .95, .98, .99]"
   ],
   "metadata": {
    "collapsed": false,
    "pycharm": {
     "name": "#%%\n"
    }
   }
  },
  {
   "cell_type": "markdown",
   "source": [
    "Perform grid search to find the best parameters from the above sets. This may take a\n",
    "couple of minutes to run."
   ],
   "metadata": {
    "collapsed": false
   }
  },
  {
   "cell_type": "code",
   "execution_count": 4,
   "outputs": [
    {
     "name": "stdout",
     "output_type": "stream",
     "text": [
      "Best batch size:  5\n",
      "Best learning rate:  0.1\n",
      "Best momentum:  0.25\n"
     ]
    }
   ],
   "source": [
    "search = GridSearch(\n",
    "    5,\n",
    "    iris,\n",
    "    batch_sizes,\n",
    "    learning_rates,\n",
    "    momentums,\n",
    "    max_iters=1e3\n",
    ")\n",
    "_, (_, best_val_params) = search.accuracy_plot()\n",
    "batch_size, learning_rate, momentum = best_val_params\n",
    "print(\"Best batch size: \", batch_size)\n",
    "print(\"Best learning rate: \", learning_rate)\n",
    "print(\"Best momentum: \", momentum)"
   ],
   "metadata": {
    "collapsed": false,
    "pycharm": {
     "name": "#%%\n"
    }
   }
  },
  {
   "cell_type": "markdown",
   "source": [
    "Now that we have the best parameters, we compare softmax regression to K-Nearest Neighbors\n",
    "using cross validation.\n",
    "\n",
    "To find the best K, we perform a grid search for K = {1, ..., 20}"
   ],
   "metadata": {
    "collapsed": false
   }
  },
  {
   "cell_type": "code",
   "execution_count": 5,
   "outputs": [],
   "source": [
    "\n",
    "CV = CrossValidation(5, iris)\n",
    "\n",
    "#find best knn model\n",
    "k_values = np.zeros(50)\n",
    "for i in range(1, 21):\n",
    "    knn = KNeighborsClassifier(n_neighbors=i)\n",
    "    _, k_values[i-1], _ = CV.cross_validate_acc(knn)\n",
    "best_k = np.argmax(k_values) + 1"
   ],
   "metadata": {
    "collapsed": false,
    "pycharm": {
     "name": "#%%\n"
    }
   }
  },
  {
   "cell_type": "markdown",
   "source": [
    "The best K for KNN is found to be:"
   ],
   "metadata": {
    "collapsed": false
   }
  },
  {
   "cell_type": "code",
   "execution_count": 6,
   "outputs": [
    {
     "name": "stdout",
     "output_type": "stream",
     "text": [
      "5\n"
     ]
    }
   ],
   "source": [
    "print(best_k)"
   ],
   "metadata": {
    "collapsed": false,
    "pycharm": {
     "name": "#%%\n"
    }
   }
  },
  {
   "cell_type": "code",
   "execution_count": 7,
   "outputs": [],
   "source": [
    "\n",
    "\n",
    "# compare models\n",
    "gd = GradientDescent(learning_rate=learning_rate, batch_size=batch_size, momentum=momentum, max_iters=1e3)\n",
    "softmax = SoftmaxRegression()\n",
    "_, softmax_acc, _ = CV.cross_validate_acc(softmax, gd)"
   ],
   "metadata": {
    "collapsed": false,
    "pycharm": {
     "name": "#%%\n"
    }
   }
  },
  {
   "cell_type": "markdown",
   "source": [
    "The 5-fold cross-validation accuracy of softmax regression is:"
   ],
   "metadata": {
    "collapsed": false
   }
  },
  {
   "cell_type": "code",
   "execution_count": 8,
   "outputs": [
    {
     "name": "stdout",
     "output_type": "stream",
     "text": [
      "0.9866666666666667\n"
     ]
    }
   ],
   "source": [
    "print(softmax_acc)"
   ],
   "metadata": {
    "collapsed": false,
    "pycharm": {
     "name": "#%%\n"
    }
   }
  },
  {
   "cell_type": "markdown",
   "source": [
    "And the 5-fold cross-validation accuracy of KNN is:"
   ],
   "metadata": {
    "collapsed": false
   }
  },
  {
   "cell_type": "code",
   "execution_count": 9,
   "outputs": [
    {
     "name": "stdout",
     "output_type": "stream",
     "text": [
      "0.9533333333333334\n"
     ]
    }
   ],
   "source": [
    "print(k_values[best_k])\n"
   ],
   "metadata": {
    "collapsed": false,
    "pycharm": {
     "name": "#%%\n"
    }
   }
  }
 ],
 "metadata": {
  "kernelspec": {
   "display_name": "Python 3",
   "language": "python",
   "name": "python3"
  },
  "language_info": {
   "codemirror_mode": {
    "name": "ipython",
    "version": 2
   },
   "file_extension": ".py",
   "mimetype": "text/x-python",
   "name": "python",
   "nbconvert_exporter": "python",
   "pygments_lexer": "ipython2",
   "version": "2.7.6"
  }
 },
 "nbformat": 4,
 "nbformat_minor": 0
}