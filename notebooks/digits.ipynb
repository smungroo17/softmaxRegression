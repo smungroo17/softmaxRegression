{
 "cells": [
  {
   "cell_type": "code",
   "execution_count": 1,
   "metadata": {
    "collapsed": true
   },
   "outputs": [],
   "source": [
    "import numpy as np\n",
    "from sklearn.datasets import load_digits\n",
    "from crossValidation import GridSearch, CrossValidation\n",
    "from softmax import SoftmaxRegression, GradientDescent\n",
    "from sklearn.neighbors import KNeighborsClassifier"
   ]
  },
  {
   "cell_type": "markdown",
   "source": [
    "# Digits Dataset\n",
    "We find the best hyper-parameters by trying various combinations of batch size,\n",
    "learning rate, and momentum, as seen below. We limit the number of options to speed up\n",
    "the search."
   ],
   "metadata": {
    "collapsed": false,
    "pycharm": {
     "name": "#%% md\n"
    }
   }
  },
  {
   "cell_type": "code",
   "execution_count": 2,
   "outputs": [],
   "source": [
    "digits = load_digits()\n",
    "batch_sizes = [1, 5, 10, 20, 30]\n",
    "learning_rates = [.0001, .001, .01, .1]\n",
    "momentums = [.25, .50, .75, .95, .98, .99]"
   ],
   "metadata": {
    "collapsed": false,
    "pycharm": {
     "name": "#%%\n"
    }
   }
  },
  {
   "cell_type": "markdown",
   "source": [
    "Perform grid search to find the best parameters from the above sets. This may take a\n",
    "couple of minutes to run."
   ],
   "metadata": {
    "collapsed": false,
    "pycharm": {
     "name": "#%% md\n"
    }
   }
  },
  {
   "cell_type": "code",
   "execution_count": 3,
   "outputs": [
    {
     "name": "stdout",
     "output_type": "stream",
     "text": [
      "Best batch size:  20\n",
      "Best learning rate:  0.01\n",
      "Best momentum:  0.5\n"
     ]
    }
   ],
   "source": [
    "search = GridSearch(\n",
    "    5,\n",
    "    digits,\n",
    "    batch_sizes,\n",
    "    learning_rates,\n",
    "    momentums,\n",
    "    max_iters=1e3\n",
    ")\n",
    "_, (_, best_val_params) = search.accuracy_plot()\n",
    "batch_size, learning_rate, momentum = best_val_params\n",
    "print(\"Best batch size: \", batch_size)\n",
    "print(\"Best learning rate: \", learning_rate)\n",
    "print(\"Best momentum: \", momentum)"
   ],
   "metadata": {
    "collapsed": false,
    "pycharm": {
     "name": "#%%\n"
    }
   }
  },
  {
   "cell_type": "markdown",
   "source": [
    "Now that we have the best parameters, we compare softmax regression to K-Nearest Neighbors\n",
    "using cross validation.\n",
    "\n",
    "To find the best K, we perform a grid search for K = {1, ..., 20}"
   ],
   "metadata": {
    "collapsed": false,
    "pycharm": {
     "name": "#%% md\n"
    }
   }
  },
  {
   "cell_type": "code",
   "execution_count": 4,
   "outputs": [],
   "source": [
    "CV = CrossValidation(5, digits)\n",
    "#find best knn model\n",
    "k_values = np.zeros(20)\n",
    "for i in range(1, 21):\n",
    "    knn = KNeighborsClassifier(n_neighbors=i)\n",
    "    _, k_values[i-1], _ = CV.cross_validate_acc(knn)\n",
    "best_k = np.argmax(k_values) + 1"
   ],
   "metadata": {
    "collapsed": false,
    "pycharm": {
     "name": "#%%\n"
    }
   }
  },
  {
   "cell_type": "markdown",
   "source": [
    "The best K for KNN is found to be:"
   ],
   "metadata": {
    "collapsed": false,
    "pycharm": {
     "name": "#%% md\n"
    }
   }
  },
  {
   "cell_type": "code",
   "execution_count": 5,
   "outputs": [
    {
     "name": "stdout",
     "output_type": "stream",
     "text": [
      "4\n"
     ]
    }
   ],
   "source": [
    "print(best_k)"
   ],
   "metadata": {
    "collapsed": false,
    "pycharm": {
     "name": "#%%\n"
    }
   }
  },
  {
   "cell_type": "code",
   "execution_count": 9,
   "outputs": [],
   "source": [
    "# compare models\n",
    "gd = GradientDescent(learning_rate=learning_rate, batch_size=batch_size, momentum=momentum, max_iters=1e3)\n",
    "softmax = SoftmaxRegression()\n",
    "_, softmax_acc, _ = CV.cross_validate_acc(softmax, gd)"
   ],
   "metadata": {
    "collapsed": false,
    "pycharm": {
     "name": "#%%\n"
    }
   }
  },
  {
   "cell_type": "markdown",
   "source": [
    "The 5-fold cross-validation accuracy of softmax regression is:"
   ],
   "metadata": {
    "collapsed": false,
    "pycharm": {
     "name": "#%% md\n"
    }
   }
  },
  {
   "cell_type": "code",
   "execution_count": 10,
   "outputs": [
    {
     "name": "stdout",
     "output_type": "stream",
     "text": [
      "0.9604456824512534\n"
     ]
    }
   ],
   "source": [
    "print(softmax_acc)"
   ],
   "metadata": {
    "collapsed": false,
    "pycharm": {
     "name": "#%%\n"
    }
   }
  },
  {
   "cell_type": "markdown",
   "source": [
    "And the 5-fold cross-validation accuracy of KNN is:"
   ],
   "metadata": {
    "collapsed": false,
    "pycharm": {
     "name": "#%% md\n"
    }
   }
  },
  {
   "cell_type": "code",
   "execution_count": 11,
   "outputs": [
    {
     "name": "stdout",
     "output_type": "stream",
     "text": [
      "0.9855153203342619\n"
     ]
    }
   ],
   "source": [
    "print(k_values[best_k])\n"
   ],
   "metadata": {
    "collapsed": false,
    "pycharm": {
     "name": "#%%\n"
    }
   }
  }
 ],
 "metadata": {
  "kernelspec": {
   "display_name": "Python 3",
   "language": "python",
   "name": "python3"
  },
  "language_info": {
   "codemirror_mode": {
    "name": "ipython",
    "version": 2
   },
   "file_extension": ".py",
   "mimetype": "text/x-python",
   "name": "python",
   "nbconvert_exporter": "python",
   "pygments_lexer": "ipython2",
   "version": "2.7.6"
  }
 },
 "nbformat": 4,
 "nbformat_minor": 0
}